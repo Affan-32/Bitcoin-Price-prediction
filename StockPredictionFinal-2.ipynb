{
  "cells": [
    {
      "cell_type": "code",
      "execution_count": 1,
      "metadata": {
        "id": "XEnN7S7-Njci"
      },
      "outputs": [],
      "source": [
        "import pandas as pd\n",
        "import numpy as np\n",
        "from matplotlib import pyplot as plt\n",
        "from sklearn import model_selection\n",
        "from sklearn.metrics import confusion_matrix\n",
        "from sklearn.preprocessing import StandardScaler\n",
        "from sklearn.model_selection import train_test_split\n",
        "from sklearn.preprocessing import MinMaxScaler\n",
        "from keras.models import Sequential\n",
        "from keras.layers import Dense\n",
        "from keras.layers import LSTM\n",
        "from keras.layers import Dropout"
      ]
    },
    {
      "cell_type": "code",
      "execution_count": 2,
      "metadata": {
        "id": "k7aA-Uy1KA8p"
      },
      "outputs": [],
      "source": [
        "import yfinance as yf\n",
        "\n",
        "df = yf.Ticker(\"TATASTEEL.NS\").history(period='5y')\n"
      ]
    },
    {
      "cell_type": "code",
      "execution_count": 3,
      "metadata": {
        "colab": {
          "base_uri": "https://localhost:8080/",
          "height": 231
        },
        "id": "-Mf1EoBLKDwm",
        "outputId": "508f45dc-d2eb-4d5d-e58b-1ac4ade7a550"
      },
      "outputs": [
        {
          "output_type": "execute_result",
          "data": {
            "text/plain": [
              "                                 Open        High         Low       Close  \\\n",
              "Date                                                                        \n",
              "2023-10-23 00:00:00+05:30  123.349998  123.400002  119.699997  120.000000   \n",
              "2023-10-25 00:00:00+05:30  121.199997  122.800003  120.750000  121.349998   \n",
              "2023-10-26 00:00:00+05:30  120.849998  120.900002  118.900002  119.900002   \n",
              "2023-10-27 00:00:00+05:30  120.500000  121.800003  119.500000  119.900002   \n",
              "2023-10-30 00:00:00+05:30  121.050003  121.250000  118.949997  119.150002   \n",
              "\n",
              "                             Volume  Dividends  Stock Splits  \n",
              "Date                                                          \n",
              "2023-10-23 00:00:00+05:30  30699479        0.0           0.0  \n",
              "2023-10-25 00:00:00+05:30  27346103        0.0           0.0  \n",
              "2023-10-26 00:00:00+05:30  36298907        0.0           0.0  \n",
              "2023-10-27 00:00:00+05:30  28424007        0.0           0.0  \n",
              "2023-10-30 00:00:00+05:30  18753217        0.0           0.0  "
            ],
            "text/html": [
              "\n",
              "  <div id=\"df-b6e12ece-803b-4fbf-bda3-2565e6df7a9f\" class=\"colab-df-container\">\n",
              "    <div>\n",
              "<style scoped>\n",
              "    .dataframe tbody tr th:only-of-type {\n",
              "        vertical-align: middle;\n",
              "    }\n",
              "\n",
              "    .dataframe tbody tr th {\n",
              "        vertical-align: top;\n",
              "    }\n",
              "\n",
              "    .dataframe thead th {\n",
              "        text-align: right;\n",
              "    }\n",
              "</style>\n",
              "<table border=\"1\" class=\"dataframe\">\n",
              "  <thead>\n",
              "    <tr style=\"text-align: right;\">\n",
              "      <th></th>\n",
              "      <th>Open</th>\n",
              "      <th>High</th>\n",
              "      <th>Low</th>\n",
              "      <th>Close</th>\n",
              "      <th>Volume</th>\n",
              "      <th>Dividends</th>\n",
              "      <th>Stock Splits</th>\n",
              "    </tr>\n",
              "    <tr>\n",
              "      <th>Date</th>\n",
              "      <th></th>\n",
              "      <th></th>\n",
              "      <th></th>\n",
              "      <th></th>\n",
              "      <th></th>\n",
              "      <th></th>\n",
              "      <th></th>\n",
              "    </tr>\n",
              "  </thead>\n",
              "  <tbody>\n",
              "    <tr>\n",
              "      <th>2023-10-23 00:00:00+05:30</th>\n",
              "      <td>123.349998</td>\n",
              "      <td>123.400002</td>\n",
              "      <td>119.699997</td>\n",
              "      <td>120.000000</td>\n",
              "      <td>30699479</td>\n",
              "      <td>0.0</td>\n",
              "      <td>0.0</td>\n",
              "    </tr>\n",
              "    <tr>\n",
              "      <th>2023-10-25 00:00:00+05:30</th>\n",
              "      <td>121.199997</td>\n",
              "      <td>122.800003</td>\n",
              "      <td>120.750000</td>\n",
              "      <td>121.349998</td>\n",
              "      <td>27346103</td>\n",
              "      <td>0.0</td>\n",
              "      <td>0.0</td>\n",
              "    </tr>\n",
              "    <tr>\n",
              "      <th>2023-10-26 00:00:00+05:30</th>\n",
              "      <td>120.849998</td>\n",
              "      <td>120.900002</td>\n",
              "      <td>118.900002</td>\n",
              "      <td>119.900002</td>\n",
              "      <td>36298907</td>\n",
              "      <td>0.0</td>\n",
              "      <td>0.0</td>\n",
              "    </tr>\n",
              "    <tr>\n",
              "      <th>2023-10-27 00:00:00+05:30</th>\n",
              "      <td>120.500000</td>\n",
              "      <td>121.800003</td>\n",
              "      <td>119.500000</td>\n",
              "      <td>119.900002</td>\n",
              "      <td>28424007</td>\n",
              "      <td>0.0</td>\n",
              "      <td>0.0</td>\n",
              "    </tr>\n",
              "    <tr>\n",
              "      <th>2023-10-30 00:00:00+05:30</th>\n",
              "      <td>121.050003</td>\n",
              "      <td>121.250000</td>\n",
              "      <td>118.949997</td>\n",
              "      <td>119.150002</td>\n",
              "      <td>18753217</td>\n",
              "      <td>0.0</td>\n",
              "      <td>0.0</td>\n",
              "    </tr>\n",
              "  </tbody>\n",
              "</table>\n",
              "</div>\n",
              "    <div class=\"colab-df-buttons\">\n",
              "\n",
              "  <div class=\"colab-df-container\">\n",
              "    <button class=\"colab-df-convert\" onclick=\"convertToInteractive('df-b6e12ece-803b-4fbf-bda3-2565e6df7a9f')\"\n",
              "            title=\"Convert this dataframe to an interactive table.\"\n",
              "            style=\"display:none;\">\n",
              "\n",
              "  <svg xmlns=\"http://www.w3.org/2000/svg\" height=\"24px\" viewBox=\"0 -960 960 960\">\n",
              "    <path d=\"M120-120v-720h720v720H120Zm60-500h600v-160H180v160Zm220 220h160v-160H400v160Zm0 220h160v-160H400v160ZM180-400h160v-160H180v160Zm440 0h160v-160H620v160ZM180-180h160v-160H180v160Zm440 0h160v-160H620v160Z\"/>\n",
              "  </svg>\n",
              "    </button>\n",
              "\n",
              "  <style>\n",
              "    .colab-df-container {\n",
              "      display:flex;\n",
              "      gap: 12px;\n",
              "    }\n",
              "\n",
              "    .colab-df-convert {\n",
              "      background-color: #E8F0FE;\n",
              "      border: none;\n",
              "      border-radius: 50%;\n",
              "      cursor: pointer;\n",
              "      display: none;\n",
              "      fill: #1967D2;\n",
              "      height: 32px;\n",
              "      padding: 0 0 0 0;\n",
              "      width: 32px;\n",
              "    }\n",
              "\n",
              "    .colab-df-convert:hover {\n",
              "      background-color: #E2EBFA;\n",
              "      box-shadow: 0px 1px 2px rgba(60, 64, 67, 0.3), 0px 1px 3px 1px rgba(60, 64, 67, 0.15);\n",
              "      fill: #174EA6;\n",
              "    }\n",
              "\n",
              "    .colab-df-buttons div {\n",
              "      margin-bottom: 4px;\n",
              "    }\n",
              "\n",
              "    [theme=dark] .colab-df-convert {\n",
              "      background-color: #3B4455;\n",
              "      fill: #D2E3FC;\n",
              "    }\n",
              "\n",
              "    [theme=dark] .colab-df-convert:hover {\n",
              "      background-color: #434B5C;\n",
              "      box-shadow: 0px 1px 3px 1px rgba(0, 0, 0, 0.15);\n",
              "      filter: drop-shadow(0px 1px 2px rgba(0, 0, 0, 0.3));\n",
              "      fill: #FFFFFF;\n",
              "    }\n",
              "  </style>\n",
              "\n",
              "    <script>\n",
              "      const buttonEl =\n",
              "        document.querySelector('#df-b6e12ece-803b-4fbf-bda3-2565e6df7a9f button.colab-df-convert');\n",
              "      buttonEl.style.display =\n",
              "        google.colab.kernel.accessAllowed ? 'block' : 'none';\n",
              "\n",
              "      async function convertToInteractive(key) {\n",
              "        const element = document.querySelector('#df-b6e12ece-803b-4fbf-bda3-2565e6df7a9f');\n",
              "        const dataTable =\n",
              "          await google.colab.kernel.invokeFunction('convertToInteractive',\n",
              "                                                    [key], {});\n",
              "        if (!dataTable) return;\n",
              "\n",
              "        const docLinkHtml = 'Like what you see? Visit the ' +\n",
              "          '<a target=\"_blank\" href=https://colab.research.google.com/notebooks/data_table.ipynb>data table notebook</a>'\n",
              "          + ' to learn more about interactive tables.';\n",
              "        element.innerHTML = '';\n",
              "        dataTable['output_type'] = 'display_data';\n",
              "        await google.colab.output.renderOutput(dataTable, element);\n",
              "        const docLink = document.createElement('div');\n",
              "        docLink.innerHTML = docLinkHtml;\n",
              "        element.appendChild(docLink);\n",
              "      }\n",
              "    </script>\n",
              "  </div>\n",
              "\n",
              "\n",
              "<div id=\"df-ecdce35c-9541-41b4-b830-97ac20501c5f\">\n",
              "  <button class=\"colab-df-quickchart\" onclick=\"quickchart('df-ecdce35c-9541-41b4-b830-97ac20501c5f')\"\n",
              "            title=\"Suggest charts.\"\n",
              "            style=\"display:none;\">\n",
              "\n",
              "<svg xmlns=\"http://www.w3.org/2000/svg\" height=\"24px\"viewBox=\"0 0 24 24\"\n",
              "     width=\"24px\">\n",
              "    <g>\n",
              "        <path d=\"M19 3H5c-1.1 0-2 .9-2 2v14c0 1.1.9 2 2 2h14c1.1 0 2-.9 2-2V5c0-1.1-.9-2-2-2zM9 17H7v-7h2v7zm4 0h-2V7h2v10zm4 0h-2v-4h2v4z\"/>\n",
              "    </g>\n",
              "</svg>\n",
              "  </button>\n",
              "\n",
              "<style>\n",
              "  .colab-df-quickchart {\n",
              "      --bg-color: #E8F0FE;\n",
              "      --fill-color: #1967D2;\n",
              "      --hover-bg-color: #E2EBFA;\n",
              "      --hover-fill-color: #174EA6;\n",
              "      --disabled-fill-color: #AAA;\n",
              "      --disabled-bg-color: #DDD;\n",
              "  }\n",
              "\n",
              "  [theme=dark] .colab-df-quickchart {\n",
              "      --bg-color: #3B4455;\n",
              "      --fill-color: #D2E3FC;\n",
              "      --hover-bg-color: #434B5C;\n",
              "      --hover-fill-color: #FFFFFF;\n",
              "      --disabled-bg-color: #3B4455;\n",
              "      --disabled-fill-color: #666;\n",
              "  }\n",
              "\n",
              "  .colab-df-quickchart {\n",
              "    background-color: var(--bg-color);\n",
              "    border: none;\n",
              "    border-radius: 50%;\n",
              "    cursor: pointer;\n",
              "    display: none;\n",
              "    fill: var(--fill-color);\n",
              "    height: 32px;\n",
              "    padding: 0;\n",
              "    width: 32px;\n",
              "  }\n",
              "\n",
              "  .colab-df-quickchart:hover {\n",
              "    background-color: var(--hover-bg-color);\n",
              "    box-shadow: 0 1px 2px rgba(60, 64, 67, 0.3), 0 1px 3px 1px rgba(60, 64, 67, 0.15);\n",
              "    fill: var(--button-hover-fill-color);\n",
              "  }\n",
              "\n",
              "  .colab-df-quickchart-complete:disabled,\n",
              "  .colab-df-quickchart-complete:disabled:hover {\n",
              "    background-color: var(--disabled-bg-color);\n",
              "    fill: var(--disabled-fill-color);\n",
              "    box-shadow: none;\n",
              "  }\n",
              "\n",
              "  .colab-df-spinner {\n",
              "    border: 2px solid var(--fill-color);\n",
              "    border-color: transparent;\n",
              "    border-bottom-color: var(--fill-color);\n",
              "    animation:\n",
              "      spin 1s steps(1) infinite;\n",
              "  }\n",
              "\n",
              "  @keyframes spin {\n",
              "    0% {\n",
              "      border-color: transparent;\n",
              "      border-bottom-color: var(--fill-color);\n",
              "      border-left-color: var(--fill-color);\n",
              "    }\n",
              "    20% {\n",
              "      border-color: transparent;\n",
              "      border-left-color: var(--fill-color);\n",
              "      border-top-color: var(--fill-color);\n",
              "    }\n",
              "    30% {\n",
              "      border-color: transparent;\n",
              "      border-left-color: var(--fill-color);\n",
              "      border-top-color: var(--fill-color);\n",
              "      border-right-color: var(--fill-color);\n",
              "    }\n",
              "    40% {\n",
              "      border-color: transparent;\n",
              "      border-right-color: var(--fill-color);\n",
              "      border-top-color: var(--fill-color);\n",
              "    }\n",
              "    60% {\n",
              "      border-color: transparent;\n",
              "      border-right-color: var(--fill-color);\n",
              "    }\n",
              "    80% {\n",
              "      border-color: transparent;\n",
              "      border-right-color: var(--fill-color);\n",
              "      border-bottom-color: var(--fill-color);\n",
              "    }\n",
              "    90% {\n",
              "      border-color: transparent;\n",
              "      border-bottom-color: var(--fill-color);\n",
              "    }\n",
              "  }\n",
              "</style>\n",
              "\n",
              "  <script>\n",
              "    async function quickchart(key) {\n",
              "      const quickchartButtonEl =\n",
              "        document.querySelector('#' + key + ' button');\n",
              "      quickchartButtonEl.disabled = true;  // To prevent multiple clicks.\n",
              "      quickchartButtonEl.classList.add('colab-df-spinner');\n",
              "      try {\n",
              "        const charts = await google.colab.kernel.invokeFunction(\n",
              "            'suggestCharts', [key], {});\n",
              "      } catch (error) {\n",
              "        console.error('Error during call to suggestCharts:', error);\n",
              "      }\n",
              "      quickchartButtonEl.classList.remove('colab-df-spinner');\n",
              "      quickchartButtonEl.classList.add('colab-df-quickchart-complete');\n",
              "    }\n",
              "    (() => {\n",
              "      let quickchartButtonEl =\n",
              "        document.querySelector('#df-ecdce35c-9541-41b4-b830-97ac20501c5f button');\n",
              "      quickchartButtonEl.style.display =\n",
              "        google.colab.kernel.accessAllowed ? 'block' : 'none';\n",
              "    })();\n",
              "  </script>\n",
              "</div>\n",
              "    </div>\n",
              "  </div>\n"
            ]
          },
          "metadata": {},
          "execution_count": 3
        }
      ],
      "source": [
        "df.tail()"
      ]
    },
    {
      "cell_type": "code",
      "execution_count": 4,
      "metadata": {
        "id": "xdHtD4GEO1E_"
      },
      "outputs": [],
      "source": [
        "df1 = df.reset_index()['Close']"
      ]
    },
    {
      "cell_type": "code",
      "execution_count": 5,
      "metadata": {
        "colab": {
          "base_uri": "https://localhost:8080/"
        },
        "id": "2rpGHAanPxfY",
        "outputId": "ffab6b4d-d75a-49ad-e639-475302d93eb4"
      },
      "outputs": [
        {
          "output_type": "execute_result",
          "data": {
            "text/plain": [
              "0        48.190277\n",
              "1        47.281101\n",
              "2        47.515865\n",
              "3        49.005539\n",
              "4        49.295788\n",
              "           ...    \n",
              "1231    120.000000\n",
              "1232    121.349998\n",
              "1233    119.900002\n",
              "1234    119.900002\n",
              "1235    119.150002\n",
              "Name: Close, Length: 1236, dtype: float64"
            ]
          },
          "metadata": {},
          "execution_count": 5
        }
      ],
      "source": [
        "df1"
      ]
    },
    {
      "cell_type": "code",
      "execution_count": 6,
      "metadata": {
        "colab": {
          "base_uri": "https://localhost:8080/"
        },
        "id": "HHJTASzUPVFa",
        "outputId": "ef9ebd63-5d72-409c-c6d1-e156d87dc0b3"
      },
      "outputs": [
        {
          "output_type": "execute_result",
          "data": {
            "text/plain": [
              "(1236,)"
            ]
          },
          "metadata": {},
          "execution_count": 6
        }
      ],
      "source": [
        "df1.shape"
      ]
    },
    {
      "cell_type": "code",
      "execution_count": 7,
      "metadata": {
        "colab": {
          "base_uri": "https://localhost:8080/",
          "height": 445
        },
        "id": "whpII1CsPXNp",
        "outputId": "abf83654-3bd7-4f28-fd0b-6cfbd3b54209"
      },
      "outputs": [
        {
          "output_type": "execute_result",
          "data": {
            "text/plain": [
              "[<matplotlib.lines.Line2D at 0x7b8af15e4a90>]"
            ]
          },
          "metadata": {},
          "execution_count": 7
        },
        {
          "output_type": "display_data",
          "data": {
            "text/plain": [
              "<Figure size 640x480 with 1 Axes>"
            ],
            "image/png": "[encoded data removed]"
          },
          "metadata": {}
        }
      ],
      "source": [
        "plt.plot(df1)"
      ]
    },
    {
      "cell_type": "code",
      "execution_count": 8,
      "metadata": {
        "id": "Wd3hxrMrPg3D"
      },
      "outputs": [],
      "source": [
        "scaler = MinMaxScaler(feature_range=(0,1))\n",
        "df1 = scaler.fit_transform(np.array(df1).reshape(-1,1))"
      ]
    },
    {
      "cell_type": "code",
      "execution_count": 9,
      "metadata": {
        "id": "cnyZeKnUQ8Yj"
      },
      "outputs": [],
      "source": [
        "training_size = int(len(df1)*0.65)\n",
        "test_size = len(df1)-training_size\n",
        "train_data,test_data = df1[0:training_size,:],df1[training_size:len(df1),:1]"
      ]
    },
    {
      "cell_type": "code",
      "execution_count": 10,
      "metadata": {
        "id": "HUc6eBW6RqZG"
      },
      "outputs": [],
      "source": [
        "def create_dataset(dataset,time_step=1):\n",
        "  dataX,dataY = [],[]\n",
        "  for i in range(len(dataset)-time_step-1):\n",
        "    a = dataset[i:(i+time_step),0]\n",
        "    dataX.append(a)\n",
        "    dataY.append(dataset[i+time_step,0])\n",
        "  return np.array(dataX),np.array(dataY)"
      ]
    },
    {
      "cell_type": "code",
      "execution_count": 11,
      "metadata": {
        "id": "kOf2WT2AUBO4"
      },
      "outputs": [],
      "source": [
        "time_step = 100\n",
        "X_train,y_train = create_dataset(train_data,time_step)\n",
        "X_test,y_test = create_dataset(test_data,time_step)"
      ]
    },
    {
      "cell_type": "code",
      "execution_count": 12,
      "metadata": {
        "colab": {
          "base_uri": "https://localhost:8080/"
        },
        "id": "RFHFtlDnUZmu",
        "outputId": "33bb48e9-f42a-4f21-fe17-595fff3e4e51"
      },
      "outputs": [
        {
          "output_type": "execute_result",
          "data": {
            "text/plain": [
              "(702, 100)"
            ]
          },
          "metadata": {},
          "execution_count": 12
        }
      ],
      "source": [
        "X_train.shape"
      ]
    },
    {
      "cell_type": "code",
      "execution_count": 13,
      "metadata": {
        "id": "A1oCAaEGUtjR"
      },
      "outputs": [],
      "source": [
        "X_train = X_train.reshape(X_train.shape[0],X_train.shape[1],1)\n",
        "X_test = X_test.reshape(X_test.shape[0],X_test.shape[1],1)\n"
      ]
    },
    {
      "cell_type": "code",
      "execution_count": 14,
      "metadata": {
        "colab": {
          "base_uri": "https://localhost:8080/"
        },
        "id": "XH4BtA1fVWGE",
        "outputId": "1b8afb9d-714b-4eef-a924-cd163f05617b"
      },
      "outputs": [
        {
          "output_type": "execute_result",
          "data": {
            "text/plain": [
              "(702, 100, 1)"
            ]
          },
          "metadata": {},
          "execution_count": 14
        }
      ],
      "source": [
        "X_train.shape"
      ]
    },
    {
      "cell_type": "code",
      "execution_count": 15,
      "metadata": {
        "id": "WG9kpTEuVXc8"
      },
      "outputs": [],
      "source": [
        "model = Sequential()\n",
        "model.add(LSTM(50,return_sequences=True,input_shape=(100,1)))\n",
        "model.add(LSTM(50,return_sequences=True))\n",
        "model.add(LSTM(50))\n",
        "model.add(Dense(1))\n",
        "model.compile(loss = 'mean_squared_error',optimizer = 'adam')"
      ]
    },
    {
      "cell_type": "code",
      "execution_count": 16,
      "metadata": {
        "colab": {
          "base_uri": "https://localhost:8080/"
        },
        "id": "fpqLvij6WMCG",
        "outputId": "30cdbcc5-0614-4a75-eb72-1fdebc62bf66"
      },
      "outputs": [
        {
          "output_type": "stream",
          "name": "stdout",
          "text": [
            "Model: \"sequential\"\n",
            "_________________________________________________________________\n",
            " Layer (type)                Output Shape              Param #   \n",
            "=================================================================\n",
            " lstm (LSTM)                 (None, 100, 50)           10400     \n",
            "                                                                 \n",
            " lstm_1 (LSTM)               (None, 100, 50)           20200     \n",
            "                                                                 \n",
            " lstm_2 (LSTM)               (None, 50)                20200     \n",
            "                                                                 \n",
            " dense (Dense)               (None, 1)                 51        \n",
            "                                                                 \n",
            "=================================================================\n",
            "Total params: 50851 (198.64 KB)\n",
            "Trainable params: 50851 (198.64 KB)\n",
            "Non-trainable params: 0 (0.00 Byte)\n",
            "_________________________________________________________________\n"
          ]
        }
      ],
      "source": [
        "model.summary()"
      ]
    },
    {
      "cell_type": "code",
      "execution_count": 17,
      "metadata": {
        "colab": {
          "base_uri": "https://localhost:8080/"
        },
        "id": "j0gsFtfIWOf9",
        "outputId": "656d023e-1ef6-4cbc-a021-118d364a727e"
      },
      "outputs": [
        {
          "output_type": "stream",
          "name": "stdout",
          "text": [
            "Epoch 1/100\n",
            "11/11 [==============================] - 21s 738ms/step - loss: 0.0753 - val_loss: 0.0051\n",
            "Epoch 2/100\n",
            "11/11 [==============================] - 5s 506ms/step - loss: 0.0097 - val_loss: 0.0022\n",
            "Epoch 3/100\n",
            "11/11 [==============================] - 2s 181ms/step - loss: 0.0037 - val_loss: 0.0057\n",
            "Epoch 4/100\n",
            "11/11 [==============================] - 2s 182ms/step - loss: 0.0035 - val_loss: 0.0030\n",
            "Epoch 5/100\n",
            "11/11 [==============================] - 2s 181ms/step - loss: 0.0022 - val_loss: 0.0021\n",
            "Epoch 6/100\n",
            "11/11 [==============================] - 2s 182ms/step - loss: 0.0021 - val_loss: 0.0019\n",
            "Epoch 7/100\n",
            "11/11 [==============================] - 3s 253ms/step - loss: 0.0020 - val_loss: 0.0019\n",
            "Epoch 8/100\n",
            "11/11 [==============================] - 2s 216ms/step - loss: 0.0020 - val_loss: 0.0018\n",
            "Epoch 9/100\n",
            "11/11 [==============================] - 2s 181ms/step - loss: 0.0019 - val_loss: 0.0020\n",
            "Epoch 10/100\n",
            "11/11 [==============================] - 2s 183ms/step - loss: 0.0018 - val_loss: 0.0017\n",
            "Epoch 11/100\n",
            "11/11 [==============================] - 2s 182ms/step - loss: 0.0018 - val_loss: 0.0017\n",
            "Epoch 12/100\n",
            "11/11 [==============================] - 2s 185ms/step - loss: 0.0017 - val_loss: 0.0017\n",
            "Epoch 13/100\n",
            "11/11 [==============================] - 3s 288ms/step - loss: 0.0017 - val_loss: 0.0016\n",
            "Epoch 14/100\n",
            "11/11 [==============================] - 2s 181ms/step - loss: 0.0016 - val_loss: 0.0015\n",
            "Epoch 15/100\n",
            "11/11 [==============================] - 2s 180ms/step - loss: 0.0016 - val_loss: 0.0015\n",
            "Epoch 16/100\n",
            "11/11 [==============================] - 2s 181ms/step - loss: 0.0015 - val_loss: 0.0015\n",
            "Epoch 17/100\n",
            "11/11 [==============================] - 2s 180ms/step - loss: 0.0014 - val_loss: 0.0015\n",
            "Epoch 18/100\n",
            "11/11 [==============================] - 2s 184ms/step - loss: 0.0015 - val_loss: 0.0014\n",
            "Epoch 19/100\n",
            "11/11 [==============================] - 3s 291ms/step - loss: 0.0014 - val_loss: 0.0013\n",
            "Epoch 20/100\n",
            "11/11 [==============================] - 2s 183ms/step - loss: 0.0014 - val_loss: 0.0017\n",
            "Epoch 21/100\n",
            "11/11 [==============================] - 2s 183ms/step - loss: 0.0015 - val_loss: 0.0016\n",
            "Epoch 22/100\n",
            "11/11 [==============================] - 2s 184ms/step - loss: 0.0013 - val_loss: 0.0012\n",
            "Epoch 23/100\n",
            "11/11 [==============================] - 2s 186ms/step - loss: 0.0013 - val_loss: 0.0018\n",
            "Epoch 24/100\n",
            "11/11 [==============================] - 2s 222ms/step - loss: 0.0013 - val_loss: 0.0012\n",
            "Epoch 25/100\n",
            "11/11 [==============================] - 3s 255ms/step - loss: 0.0014 - val_loss: 0.0016\n",
            "Epoch 26/100\n",
            "11/11 [==============================] - 4s 354ms/step - loss: 0.0013 - val_loss: 0.0011\n",
            "Epoch 27/100\n",
            "11/11 [==============================] - 2s 182ms/step - loss: 0.0015 - val_loss: 0.0011\n",
            "Epoch 28/100\n",
            "11/11 [==============================] - 2s 182ms/step - loss: 0.0014 - val_loss: 0.0013\n",
            "Epoch 29/100\n",
            "11/11 [==============================] - 3s 242ms/step - loss: 0.0012 - val_loss: 0.0016\n",
            "Epoch 30/100\n",
            "11/11 [==============================] - 3s 234ms/step - loss: 0.0012 - val_loss: 0.0012\n",
            "Epoch 31/100\n",
            "11/11 [==============================] - 2s 183ms/step - loss: 0.0012 - val_loss: 0.0010\n",
            "Epoch 32/100\n",
            "11/11 [==============================] - 2s 183ms/step - loss: 0.0011 - val_loss: 0.0010\n",
            "Epoch 33/100\n",
            "11/11 [==============================] - 2s 183ms/step - loss: 0.0012 - val_loss: 0.0011\n",
            "Epoch 34/100\n",
            "11/11 [==============================] - 2s 184ms/step - loss: 0.0011 - val_loss: 0.0011\n",
            "Epoch 35/100\n",
            "11/11 [==============================] - 3s 289ms/step - loss: 0.0012 - val_loss: 0.0021\n",
            "Epoch 36/100\n",
            "11/11 [==============================] - 2s 184ms/step - loss: 0.0014 - val_loss: 0.0019\n",
            "Epoch 37/100\n",
            "11/11 [==============================] - 2s 184ms/step - loss: 0.0012 - val_loss: 0.0012\n",
            "Epoch 38/100\n",
            "11/11 [==============================] - 2s 185ms/step - loss: 0.0011 - val_loss: 9.9394e-04\n",
            "Epoch 39/100\n",
            "11/11 [==============================] - 2s 183ms/step - loss: 0.0011 - val_loss: 0.0010\n",
            "Epoch 40/100\n",
            "11/11 [==============================] - 2s 185ms/step - loss: 0.0012 - val_loss: 0.0014\n",
            "Epoch 41/100\n",
            "11/11 [==============================] - 3s 291ms/step - loss: 0.0011 - val_loss: 9.2189e-04\n",
            "Epoch 42/100\n",
            "11/11 [==============================] - 2s 187ms/step - loss: 0.0010 - val_loss: 9.0966e-04\n",
            "Epoch 43/100\n",
            "11/11 [==============================] - 2s 182ms/step - loss: 0.0011 - val_loss: 9.3329e-04\n",
            "Epoch 44/100\n",
            "11/11 [==============================] - 2s 183ms/step - loss: 0.0010 - val_loss: 9.6209e-04\n",
            "Epoch 45/100\n",
            "11/11 [==============================] - 2s 184ms/step - loss: 9.9675e-04 - val_loss: 8.7620e-04\n",
            "Epoch 46/100\n",
            "11/11 [==============================] - 3s 286ms/step - loss: 0.0010 - val_loss: 8.6867e-04\n",
            "Epoch 47/100\n",
            "11/11 [==============================] - 3s 266ms/step - loss: 9.4053e-04 - val_loss: 9.1522e-04\n",
            "Epoch 48/100\n",
            "11/11 [==============================] - 2s 197ms/step - loss: 9.3368e-04 - val_loss: 9.1770e-04\n",
            "Epoch 49/100\n",
            "11/11 [==============================] - 2s 186ms/step - loss: 9.7986e-04 - val_loss: 0.0013\n",
            "Epoch 50/100\n",
            "11/11 [==============================] - 3s 240ms/step - loss: 9.3512e-04 - val_loss: 8.0927e-04\n",
            "Epoch 51/100\n",
            "11/11 [==============================] - 6s 553ms/step - loss: 9.2987e-04 - val_loss: 0.0012\n",
            "Epoch 52/100\n",
            "11/11 [==============================] - 4s 396ms/step - loss: 9.1676e-04 - val_loss: 0.0013\n",
            "Epoch 53/100\n",
            "11/11 [==============================] - 4s 368ms/step - loss: 0.0010 - val_loss: 0.0021\n",
            "Epoch 54/100\n",
            "11/11 [==============================] - 5s 431ms/step - loss: 0.0011 - val_loss: 0.0018\n",
            "Epoch 55/100\n",
            "11/11 [==============================] - 2s 183ms/step - loss: 9.9641e-04 - val_loss: 0.0015\n",
            "Epoch 56/100\n",
            "11/11 [==============================] - 2s 183ms/step - loss: 8.9136e-04 - val_loss: 7.7463e-04\n",
            "Epoch 57/100\n",
            "11/11 [==============================] - 2s 184ms/step - loss: 9.2335e-04 - val_loss: 9.3397e-04\n",
            "Epoch 58/100\n",
            "11/11 [==============================] - 2s 183ms/step - loss: 8.6098e-04 - val_loss: 0.0010\n",
            "Epoch 59/100\n",
            "11/11 [==============================] - 3s 247ms/step - loss: 9.0926e-04 - val_loss: 7.1219e-04\n",
            "Epoch 60/100\n",
            "11/11 [==============================] - 2s 219ms/step - loss: 8.0380e-04 - val_loss: 7.0624e-04\n",
            "Epoch 61/100\n",
            "11/11 [==============================] - 2s 186ms/step - loss: 8.3156e-04 - val_loss: 0.0013\n",
            "Epoch 62/100\n",
            "11/11 [==============================] - 2s 184ms/step - loss: 8.2388e-04 - val_loss: 7.5184e-04\n",
            "Epoch 63/100\n",
            "11/11 [==============================] - 2s 186ms/step - loss: 9.1198e-04 - val_loss: 7.3880e-04\n",
            "Epoch 64/100\n",
            "11/11 [==============================] - 2s 185ms/step - loss: 7.6219e-04 - val_loss: 9.0376e-04\n",
            "Epoch 65/100\n",
            "11/11 [==============================] - 3s 279ms/step - loss: 7.9499e-04 - val_loss: 0.0012\n",
            "Epoch 66/100\n",
            "11/11 [==============================] - 2s 183ms/step - loss: 8.8458e-04 - val_loss: 0.0018\n",
            "Epoch 67/100\n",
            "11/11 [==============================] - 2s 182ms/step - loss: 0.0010 - val_loss: 0.0011\n",
            "Epoch 68/100\n",
            "11/11 [==============================] - 2s 184ms/step - loss: 8.7917e-04 - val_loss: 9.3896e-04\n",
            "Epoch 69/100\n",
            "11/11 [==============================] - 2s 185ms/step - loss: 9.7283e-04 - val_loss: 0.0016\n",
            "Epoch 70/100\n",
            "11/11 [==============================] - 2s 182ms/step - loss: 9.0569e-04 - val_loss: 0.0012\n",
            "Epoch 71/100\n",
            "11/11 [==============================] - 3s 293ms/step - loss: 8.6284e-04 - val_loss: 6.1971e-04\n",
            "Epoch 72/100\n",
            "11/11 [==============================] - 2s 182ms/step - loss: 0.0010 - val_loss: 6.1898e-04\n",
            "Epoch 73/100\n",
            "11/11 [==============================] - 2s 187ms/step - loss: 7.8502e-04 - val_loss: 0.0011\n",
            "Epoch 74/100\n",
            "11/11 [==============================] - 2s 185ms/step - loss: 6.7295e-04 - val_loss: 6.2248e-04\n",
            "Epoch 75/100\n",
            "11/11 [==============================] - 2s 183ms/step - loss: 6.5459e-04 - val_loss: 8.4327e-04\n",
            "Epoch 76/100\n",
            "11/11 [==============================] - 2s 198ms/step - loss: 6.9285e-04 - val_loss: 7.1045e-04\n",
            "Epoch 77/100\n",
            "11/11 [==============================] - 3s 266ms/step - loss: 6.7058e-04 - val_loss: 6.3551e-04\n",
            "Epoch 78/100\n",
            "11/11 [==============================] - 2s 187ms/step - loss: 6.8919e-04 - val_loss: 6.9783e-04\n",
            "Epoch 79/100\n",
            "11/11 [==============================] - 2s 184ms/step - loss: 6.5665e-04 - val_loss: 7.2155e-04\n",
            "Epoch 80/100\n",
            "11/11 [==============================] - 2s 184ms/step - loss: 8.5826e-04 - val_loss: 0.0017\n",
            "Epoch 81/100\n",
            "11/11 [==============================] - 2s 186ms/step - loss: 6.9327e-04 - val_loss: 8.1920e-04\n",
            "Epoch 82/100\n",
            "11/11 [==============================] - 2s 231ms/step - loss: 7.2754e-04 - val_loss: 8.3094e-04\n",
            "Epoch 83/100\n",
            "11/11 [==============================] - 3s 233ms/step - loss: 6.4106e-04 - val_loss: 5.7767e-04\n",
            "Epoch 84/100\n",
            "11/11 [==============================] - 2s 184ms/step - loss: 5.9099e-04 - val_loss: 5.9212e-04\n",
            "Epoch 85/100\n",
            "11/11 [==============================] - 2s 186ms/step - loss: 5.6658e-04 - val_loss: 7.1760e-04\n",
            "Epoch 86/100\n",
            "11/11 [==============================] - 2s 185ms/step - loss: 6.4802e-04 - val_loss: 6.1199e-04\n",
            "Epoch 87/100\n",
            "11/11 [==============================] - 2s 190ms/step - loss: 5.9687e-04 - val_loss: 0.0012\n",
            "Epoch 88/100\n",
            "11/11 [==============================] - 3s 261ms/step - loss: 6.5155e-04 - val_loss: 7.1333e-04\n",
            "Epoch 89/100\n",
            "11/11 [==============================] - 2s 200ms/step - loss: 5.7318e-04 - val_loss: 7.4333e-04\n",
            "Epoch 90/100\n",
            "11/11 [==============================] - 2s 184ms/step - loss: 5.2789e-04 - val_loss: 4.8393e-04\n",
            "Epoch 91/100\n",
            "11/11 [==============================] - 2s 184ms/step - loss: 5.2631e-04 - val_loss: 8.1319e-04\n",
            "Epoch 92/100\n",
            "11/11 [==============================] - 2s 188ms/step - loss: 4.9824e-04 - val_loss: 5.6687e-04\n",
            "Epoch 93/100\n",
            "11/11 [==============================] - 2s 184ms/step - loss: 5.0409e-04 - val_loss: 4.5158e-04\n",
            "Epoch 94/100\n",
            "11/11 [==============================] - 3s 292ms/step - loss: 5.0772e-04 - val_loss: 8.2114e-04\n",
            "Epoch 95/100\n",
            "11/11 [==============================] - 2s 183ms/step - loss: 5.6818e-04 - val_loss: 7.4735e-04\n",
            "Epoch 96/100\n",
            "11/11 [==============================] - 2s 182ms/step - loss: 5.9224e-04 - val_loss: 4.5158e-04\n",
            "Epoch 97/100\n",
            "11/11 [==============================] - 2s 185ms/step - loss: 5.1394e-04 - val_loss: 9.9392e-04\n",
            "Epoch 98/100\n",
            "11/11 [==============================] - 2s 184ms/step - loss: 4.9755e-04 - val_loss: 6.7038e-04\n",
            "Epoch 99/100\n",
            "11/11 [==============================] - 2s 185ms/step - loss: 5.4849e-04 - val_loss: 9.2221e-04\n",
            "Epoch 100/100\n",
            "11/11 [==============================] - 3s 283ms/step - loss: 5.1359e-04 - val_loss: 5.4164e-04\n"
          ]
        },
        {
          "output_type": "execute_result",
          "data": {
            "text/plain": [
              "<keras.src.callbacks.History at 0x7b8aec1c5cf0>"
            ]
          },
          "metadata": {},
          "execution_count": 17
        }
      ],
      "source": [
        "model.fit(X_train,y_train,validation_data = (X_test,y_test),epochs=100,batch_size = 64,verbose=1)"
      ]
    },
    {
      "cell_type": "code",
      "execution_count": 18,
      "metadata": {
        "colab": {
          "base_uri": "https://localhost:8080/"
        },
        "id": "84avglz8Zt2C",
        "outputId": "b1611ed5-9a01-475e-9468-3bdda2f14133"
      },
      "outputs": [
        {
          "output_type": "stream",
          "name": "stdout",
          "text": [
            "22/22 [==============================] - 2s 42ms/step\n",
            "11/11 [==============================] - 1s 53ms/step\n"
          ]
        }
      ],
      "source": [
        "train_predict = model.predict(X_train)\n",
        "test_predict = model.predict(X_test)\n",
        "\n"
      ]
    },
    {
      "cell_type": "code",
      "execution_count": 19,
      "metadata": {
        "id": "vFV2UiVBfv36"
      },
      "outputs": [],
      "source": [
        "train_predict=scaler.inverse_transform(train_predict)\n",
        "test_predict=scaler.inverse_transform(test_predict)"
      ]
    },
    {
      "cell_type": "code",
      "execution_count": 20,
      "metadata": {
        "colab": {
          "base_uri": "https://localhost:8080/",
          "height": 429
        },
        "id": "xoeRq9JGcz-b",
        "outputId": "addf9efe-7ef0-42a1-f4b0-6348998904b2"
      },
      "outputs": [
        {
          "output_type": "display_data",
          "data": {
            "text/plain": [
              "<Figure size 640x480 with 1 Axes>"
            ],
            "image/png": "[encoded data removed]"
          },
          "metadata": {}
        }
      ],
      "source": [
        "look_back=100\n",
        "trainPredictPlot = np.empty_like(df1)\n",
        "trainPredictPlot[:, :] = np.nan\n",
        "trainPredictPlot[look_back:len(train_predict)+look_back, :] = train_predict\n",
        "# shift test predictions for plotting\n",
        "testPredictPlot = np.empty_like(df1)\n",
        "testPredictPlot[:, :] = np.nan\n",
        "testPredictPlot[len(train_predict)+(look_back*2)+1:len(df1)-1, :] = test_predict\n",
        "# plot baseline and predictions\n",
        "plt.plot(scaler.inverse_transform(df1))\n",
        "plt.plot(trainPredictPlot)\n",
        "plt.plot(testPredictPlot)\n",
        "plt.show()"
      ]
    },
    {
      "cell_type": "code",
      "execution_count": 21,
      "metadata": {
        "colab": {
          "base_uri": "https://localhost:8080/"
        },
        "id": "FjQ24P2FeonM",
        "outputId": "5e8a31a6-cf66-422b-8bb3-588767101398"
      },
      "outputs": [
        {
          "output_type": "execute_result",
          "data": {
            "text/plain": [
              "433"
            ]
          },
          "metadata": {},
          "execution_count": 21
        }
      ],
      "source": [
        "len(test_data)"
      ]
    },
    {
      "cell_type": "code",
      "execution_count": 22,
      "metadata": {
        "colab": {
          "base_uri": "https://localhost:8080/"
        },
        "id": "hUQr0uTyjbcA",
        "outputId": "cdcc4f73-ebbc-4a60-cb42-b1fd09fdbe5d"
      },
      "outputs": [
        {
          "output_type": "execute_result",
          "data": {
            "text/plain": [
              "(1, 100)"
            ]
          },
          "metadata": {},
          "execution_count": 22
        }
      ],
      "source": [
        "x_input=test_data[len(test_data)-100:].reshape(1,-1)\n",
        "x_input.shape"
      ]
    },
    {
      "cell_type": "code",
      "execution_count": 23,
      "metadata": {
        "id": "cRqhpjRsjotV"
      },
      "outputs": [],
      "source": [
        "temp_input = list(x_input)\n",
        "temp_input = temp_input[0].tolist()"
      ]
    },
    {
      "cell_type": "code",
      "execution_count": null,
      "metadata": {
        "id": "QZw64AiIjzC-"
      },
      "outputs": [],
      "source": [
        "temp_input"
      ]
    },
    {
      "cell_type": "code",
      "execution_count": null,
      "metadata": {
        "id": "blABABH-j1hr"
      },
      "outputs": [],
      "source": [
        "lst_output=[]\n",
        "n_steps=100\n",
        "i=0\n",
        "while(i<30):\n",
        "\n",
        "    if(len(temp_input)>100):\n",
        "        #print(temp_input)\n",
        "        x_input=np.array(temp_input[1:])\n",
        "        print(\"{} day input {}\".format(i,x_input))\n",
        "        x_input=x_input.reshape(1,-1)\n",
        "        x_input = x_input.reshape((1, n_steps, 1))\n",
        "        #print(x_input)\n",
        "        yhat = model.predict(x_input, verbose=0)\n",
        "        print(\"{} day output {}\".format(i,yhat))\n",
        "        temp_input.extend(yhat[0].tolist())\n",
        "        temp_input=temp_input[1:]\n",
        "        #print(temp_input)\n",
        "        lst_output.extend(yhat.tolist())\n",
        "        i=i+1\n",
        "    else:\n",
        "        x_input = x_input.reshape((1, n_steps,1))\n",
        "        yhat = model.predict(x_input, verbose=0)\n",
        "        print(yhat[0])\n",
        "        temp_input.extend(yhat[0].tolist())\n",
        "        print(len(temp_input))\n",
        "        lst_output.extend(yhat.tolist())\n",
        "        i=i+1\n",
        "\n",
        "\n",
        "print(lst_output)"
      ]
    },
    {
      "cell_type": "code",
      "execution_count": 26,
      "metadata": {
        "id": "dEIS9NZtkrvT"
      },
      "outputs": [],
      "source": [
        "day_new=np.arange(1,101)\n",
        "day_pred=np.arange(101,131)"
      ]
    },
    {
      "cell_type": "code",
      "execution_count": 27,
      "metadata": {
        "id": "FEV9XDZIk5h3",
        "colab": {
          "base_uri": "https://localhost:8080/"
        },
        "outputId": "feeda4fc-9ab7-4ae7-fd66-6dfe8e18c744"
      },
      "outputs": [
        {
          "output_type": "execute_result",
          "data": {
            "text/plain": [
              "1236"
            ]
          },
          "metadata": {},
          "execution_count": 27
        }
      ],
      "source": [
        "len(df1)"
      ]
    },
    {
      "cell_type": "code",
      "execution_count": 28,
      "metadata": {
        "id": "TWOr7MsLlOO8",
        "colab": {
          "base_uri": "https://localhost:8080/",
          "height": 445
        },
        "outputId": "3305258a-e844-4683-c291-c97376b87ee6"
      },
      "outputs": [
        {
          "output_type": "execute_result",
          "data": {
            "text/plain": [
              "[<matplotlib.lines.Line2D at 0x7b8aeca280a0>]"
            ]
          },
          "metadata": {},
          "execution_count": 28
        },
        {
          "output_type": "display_data",
          "data": {
            "text/plain": [
              "<Figure size 640x480 with 1 Axes>"
            ],
            "image/png": "[encoded data removed]"
          },
          "metadata": {}
        }
      ],
      "source": [
        "plt.plot(day_new,scaler.inverse_transform(df1[len(df1)-100:]))\n",
        "plt.plot(day_pred,scaler.inverse_transform(lst_output))"
      ]
    },
    {
      "cell_type": "code",
      "source": [],
      "metadata": {
        "id": "Ge2hk_qaxqCz"
      },
      "execution_count": 28,
      "outputs": []
    }
  ],
  "metadata": {
    "colab": {
      "provenance": []
    },
    "kernelspec": {
      "display_name": "Python 3",
      "name": "python3"
    },
    "language_info": {
      "name": "python"
    }
  },
  "nbformat": 4,
  "nbformat_minor": 0
}